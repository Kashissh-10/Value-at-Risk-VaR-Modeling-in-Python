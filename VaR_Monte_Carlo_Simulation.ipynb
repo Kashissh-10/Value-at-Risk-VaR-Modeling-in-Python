{
  "nbformat": 4,
  "nbformat_minor": 0,
  "metadata": {
    "colab": {
      "provenance": [],
      "authorship_tag": "ABX9TyOHClmtn+31z63L76M0IZDb"
    },
    "kernelspec": {
      "name": "python3",
      "display_name": "Python 3"
    },
    "language_info": {
      "name": "python"
    }
  },
  "cells": [
    {
      "cell_type": "markdown",
      "source": [
        "# Value at Risk (VaR) - Monte Carlo Simulation"
      ],
      "metadata": {
        "id": "9MDl47uwFzQx"
      }
    },
    {
      "cell_type": "markdown",
      "source": [
        "# Import necessary libraries"
      ],
      "metadata": {
        "id": "lcTT3NlIF3PI"
      }
    },
    {
      "cell_type": "code",
      "source": [
        "import numpy as np\n",
        "import pandas as pd\n",
        "import datetime as dt\n",
        "import yfinance as yf\n",
        "import matplotlib.pyplot as plt\n",
        "from scipy.stats import norm"
      ],
      "metadata": {
        "id": "f9vNsA_MGFL0"
      },
      "execution_count": null,
      "outputs": []
    },
    {
      "cell_type": "markdown",
      "source": [
        "# Set time from to a certain number of years"
      ],
      "metadata": {
        "id": "wg1hRWmvGPsl"
      }
    },
    {
      "cell_type": "code",
      "source": [
        "years = 15\n",
        "\n",
        "endDate = dt.datetime.now()\n",
        "startDate = endDate - dt.timedelta(days = 365*years)"
      ],
      "metadata": {
        "id": "vqE1K9EdGQGx"
      },
      "execution_count": null,
      "outputs": []
    },
    {
      "cell_type": "markdown",
      "source": [
        "# Create a list of tickers"
      ],
      "metadata": {
        "id": "sIhmvjXgGY__"
      }
    },
    {
      "cell_type": "code",
      "source": [
        "tickers = ['SPY', 'BND', 'GLD', 'QQQ', 'VTI']"
      ],
      "metadata": {
        "id": "lUEnYyyDGZRD"
      },
      "execution_count": null,
      "outputs": []
    },
    {
      "cell_type": "markdown",
      "source": [
        "# Download the daily adjusted close prices for the tickers"
      ],
      "metadata": {
        "id": "GMCMy8xzGgC_"
      }
    },
    {
      "cell_type": "code",
      "source": [
        "adj_close_df = pd.DataFrame()\n",
        "\n",
        "for ticker in tickers:\n",
        "    data = yf.download(tickers, start = startDate, end = endDate, auto_adjust = False)\n",
        "    adj_close_df = data['Adj Close']"
      ],
      "metadata": {
        "colab": {
          "base_uri": "https://localhost:8080/"
        },
        "id": "P0I8xyVrGgMQ",
        "outputId": "3aea4ea7-bc48-437b-9342-d35bc3ece298"
      },
      "execution_count": null,
      "outputs": [
        {
          "output_type": "stream",
          "name": "stderr",
          "text": [
            "[*********************100%***********************]  5 of 5 completed\n",
            "[*********************100%***********************]  5 of 5 completed\n",
            "[*********************100%***********************]  5 of 5 completed\n",
            "[*********************100%***********************]  5 of 5 completed\n",
            "[*********************100%***********************]  5 of 5 completed\n"
          ]
        }
      ]
    },
    {
      "cell_type": "code",
      "source": [
        "print(adj_close_df)"
      ],
      "metadata": {
        "colab": {
          "base_uri": "https://localhost:8080/"
        },
        "id": "NV1caKeJG1sb",
        "outputId": "44258032-59c1-477a-d21c-4a7c3a544a7d"
      },
      "execution_count": null,
      "outputs": [
        {
          "output_type": "stream",
          "name": "stdout",
          "text": [
            "Ticker            BND         GLD         QQQ         SPY         VTI\n",
            "Date                                                                 \n",
            "2010-06-11  52.296715  120.010002   39.725784   83.347931   42.759186\n",
            "2010-06-14  52.309704  119.599998   39.717041   83.218750   42.766819\n",
            "2010-06-15  52.218628  120.989998   40.782230   85.110962   43.729084\n",
            "2010-06-16  52.342289  120.330002   40.948120   85.080574   43.683250\n",
            "2010-06-17  52.485443  121.900002   41.079067   85.217384   43.759632\n",
            "...               ...         ...         ...         ...         ...\n",
            "2025-06-02  72.370003  311.670013  523.210022  592.710022  291.359985\n",
            "2025-06-03  72.290001  308.910004  527.299988  596.090027  293.369995\n",
            "2025-06-04  72.739998  310.899994  528.770020  595.929993  293.339996\n",
            "2025-06-05  72.599998  309.329987  524.789978  593.049988  291.720001\n",
            "2025-06-06  72.209999  305.179993  529.919983  599.140015  295.119995\n",
            "\n",
            "[3771 rows x 5 columns]\n"
          ]
        }
      ]
    },
    {
      "cell_type": "markdown",
      "source": [
        "# Calculate the daily log returns and drop any NAs"
      ],
      "metadata": {
        "id": "aC6YwPlqG4hY"
      }
    },
    {
      "cell_type": "code",
      "source": [
        "log_returns = np.log(adj_close_df / adj_close_df.shift(1))\n",
        "log_returns = log_returns.dropna()\n",
        "\n",
        "print(log_returns)"
      ],
      "metadata": {
        "colab": {
          "base_uri": "https://localhost:8080/"
        },
        "id": "Im71iUyTG4tJ",
        "outputId": "a28d86e1-ec74-4896-fe43-0a8ecdffae84"
      },
      "execution_count": null,
      "outputs": [
        {
          "output_type": "stream",
          "name": "stdout",
          "text": [
            "Ticker           BND       GLD       QQQ       SPY       VTI\n",
            "Date                                                        \n",
            "2010-06-14  0.000248 -0.003422 -0.000220 -0.001551  0.000179\n",
            "2010-06-15 -0.001743  0.011555  0.026466  0.022483  0.022251\n",
            "2010-06-16  0.002365 -0.005470  0.004059 -0.000357 -0.001049\n",
            "2010-06-17  0.002731  0.012963  0.003193  0.001607  0.001747\n",
            "2010-06-18 -0.000372  0.007600  0.000830  0.001083  0.000698\n",
            "...              ...       ...       ...       ...       ...\n",
            "2025-06-02 -0.002208  0.026234  0.007867  0.005617  0.005093\n",
            "2025-06-03 -0.001106 -0.008895  0.007787  0.005686  0.006875\n",
            "2025-06-04  0.006206  0.006421  0.002784 -0.000269 -0.000102\n",
            "2025-06-05 -0.001927 -0.005063 -0.007555 -0.004845 -0.005538\n",
            "2025-06-06 -0.005386 -0.013507  0.009728  0.010217  0.011588\n",
            "\n",
            "[3770 rows x 5 columns]\n"
          ]
        }
      ]
    },
    {
      "cell_type": "markdown",
      "source": [
        "# Create a function that will be used to calculate portfolio expected return"
      ],
      "metadata": {
        "id": "lxh6yU7yHFNs"
      }
    },
    {
      "cell_type": "markdown",
      "source": [
        "*We are assuming that the future returns are based on past returns, which is not a reliable assumption"
      ],
      "metadata": {
        "id": "jRgVxys7Hy7O"
      }
    },
    {
      "cell_type": "code",
      "source": [
        "def expected_return(weights, log_returns):\n",
        "    return np.sum(log_returns.mean()*weights)"
      ],
      "metadata": {
        "id": "trrWnz9nHFY_"
      },
      "execution_count": null,
      "outputs": []
    },
    {
      "cell_type": "markdown",
      "source": [
        "# Create a function that will be used to calculate portfolio standard deviation"
      ],
      "metadata": {
        "id": "Ts6oHHdeH0Qr"
      }
    },
    {
      "cell_type": "code",
      "source": [
        "def standard_deviation(weights, cov_matrix):\n",
        "    variance = weights.T @ cov_matrix @ weights\n",
        "    return np.sqrt(variance)"
      ],
      "metadata": {
        "id": "ZJ1s96HmH0vq"
      },
      "execution_count": null,
      "outputs": []
    },
    {
      "cell_type": "markdown",
      "source": [
        "# Create a covariance matrix for all securities"
      ],
      "metadata": {
        "id": "N0b-A_DqIyz6"
      }
    },
    {
      "cell_type": "code",
      "source": [
        "cov_matrix = log_returns.cov()\n",
        "print(cov_matrix)"
      ],
      "metadata": {
        "colab": {
          "base_uri": "https://localhost:8080/"
        },
        "id": "2yWtHJbGIzq_",
        "outputId": "817951b5-abad-46ff-ae61-a6caffd90f3b"
      },
      "execution_count": null,
      "outputs": [
        {
          "output_type": "stream",
          "name": "stdout",
          "text": [
            "Ticker           BND       GLD       QQQ           SPY           VTI\n",
            "Ticker                                                              \n",
            "BND     9.578421e-06  0.000009  0.000001  6.389692e-07  8.363543e-07\n",
            "GLD     9.047438e-06  0.000097  0.000007  5.365568e-06  5.903562e-06\n",
            "QQQ     1.426097e-06  0.000007  0.000172  1.335540e-04  1.360286e-04\n",
            "SPY     6.389692e-07  0.000005  0.000134  1.194065e-04  1.216172e-04\n",
            "VTI     8.363543e-07  0.000006  0.000136  1.216172e-04  1.248385e-04\n"
          ]
        }
      ]
    },
    {
      "cell_type": "markdown",
      "source": [
        "# Create an equally weighted portfolio and find total portfolio expected return and standard deviation"
      ],
      "metadata": {
        "id": "Y_ZC1MRkI6b9"
      }
    },
    {
      "cell_type": "code",
      "source": [
        "portfolio_value = 1000000\n",
        "weights = np.array([1/len(tickers)]*len(tickers))\n",
        "portfolio_expected_return = expected_return(weights, log_returns)\n",
        "portfolio_std_dev = standard_deviation(weights, cov_matrix)"
      ],
      "metadata": {
        "id": "A73UR_H2I67b"
      },
      "execution_count": null,
      "outputs": []
    },
    {
      "cell_type": "markdown",
      "source": [
        "# Create a function that gives a random Z-score based on normal distribution"
      ],
      "metadata": {
        "id": "qpzn2VCCLD0l"
      }
    },
    {
      "cell_type": "code",
      "source": [
        "def random_z_score():\n",
        "    return np.random.normal(0,1)"
      ],
      "metadata": {
        "id": "oGqVyMqCLTp0"
      },
      "execution_count": null,
      "outputs": []
    },
    {
      "cell_type": "markdown",
      "source": [
        "# Create a function to calculate scenario Gain/Loss"
      ],
      "metadata": {
        "id": "19BnaAeCLVgA"
      }
    },
    {
      "cell_type": "code",
      "source": [
        "days = 5\n",
        "\n",
        "def scenario_gain_loss(portfolio_value, portfolio_std_dev, z_score, days):\n",
        "    return portfolio_value * portfolio_expected_return * days + portfolio_value * portfolio_std_dev * z_score"
      ],
      "metadata": {
        "id": "spKrCjaTLbSp"
      },
      "execution_count": null,
      "outputs": []
    },
    {
      "cell_type": "markdown",
      "source": [
        "# Run 10000 simulations"
      ],
      "metadata": {
        "id": "1ctJlIgyMUea"
      }
    },
    {
      "cell_type": "code",
      "source": [
        "simulations = 10000\n",
        "scenarioReturn = []\n",
        "\n",
        "for i in range(simulations):\n",
        "    z_score = random_z_score()\n",
        "    scenarioReturn.append(scenario_gain_loss(portfolio_value, portfolio_std_dev, z_score, days))\n"
      ],
      "metadata": {
        "id": "A-B9CLHrMX7J"
      },
      "execution_count": null,
      "outputs": []
    },
    {
      "cell_type": "markdown",
      "source": [
        "# Specify a confidence interval and calculate the Value at Risk (VaR)"
      ],
      "metadata": {
        "id": "_aa2M1tNNneC"
      }
    },
    {
      "cell_type": "code",
      "source": [
        "confidence_interval = 0.90\n",
        "\n",
        "VaR = -np.percentile(scenarioReturn, 100*(1- confidence_interval))\n",
        "print(VaR)"
      ],
      "metadata": {
        "colab": {
          "base_uri": "https://localhost:8080/"
        },
        "id": "rdg6wOOkNxOo",
        "outputId": "622da0ed-22e8-431b-fae2-a6c3278b7784"
      },
      "execution_count": null,
      "outputs": [
        {
          "output_type": "stream",
          "name": "stdout",
          "text": [
            "7137.070902723749\n"
          ]
        }
      ]
    },
    {
      "cell_type": "markdown",
      "source": [
        "Plot the results of all 10000 scenarios"
      ],
      "metadata": {
        "id": "o5ja905pOejO"
      }
    },
    {
      "cell_type": "code",
      "source": [
        "plt.hist(scenarioReturn, bins = 50, density = True)\n",
        "plt.xlabel('Scenario Gain/Loss ($)')\n",
        "plt.ylabel('Frequency')\n",
        "plt.title(f'Distribution of Portfolio Gain/Loss over {days}- Days')\n",
        "plt.axvline(-VaR, color = 'r', linestyle = 'dashed', linewidth=2, label=f'VaR at {confidence_interval:.0%} confidence level')\n",
        "plt.legend()\n",
        "plt.show()"
      ],
      "metadata": {
        "colab": {
          "base_uri": "https://localhost:8080/",
          "height": 472
        },
        "id": "b9ZOviD7OmNv",
        "outputId": "80b24f81-462a-45e9-c64c-b6f6dd72e4a4"
      },
      "execution_count": null,
      "outputs": [
        {
          "output_type": "display_data",
          "data": {
            "text/plain": [
              "<Figure size 640x480 with 1 Axes>"
            ],
            "image/png": "[encoded data removed]"
          },
          "metadata": {}
        }
      ]
    }
  ]
}