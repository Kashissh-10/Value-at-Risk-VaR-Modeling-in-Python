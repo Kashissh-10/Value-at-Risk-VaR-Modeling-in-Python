{
  "nbformat": 4,
  "nbformat_minor": 0,
  "metadata": {
    "colab": {
      "provenance": [],
      "authorship_tag": "ABX9TyNQBcn0MUMI1DOPUgii7VoQ"
    },
    "kernelspec": {
      "name": "python3",
      "display_name": "Python 3"
    },
    "language_info": {
      "name": "python"
    }
  },
  "cells": [
    {
      "cell_type": "markdown",
      "source": [
        "# Value at Risk (VaR) - Historical Simulation"
      ],
      "metadata": {
        "id": "wQkR0zu69XmH"
      }
    },
    {
      "cell_type": "markdown",
      "source": [
        "# Import necessary libraries"
      ],
      "metadata": {
        "id": "yOPOFXyA9Yoq"
      }
    },
    {
      "cell_type": "code",
      "source": [
        "import numpy as np\n",
        "import pandas as pd\n",
        "import datetime as dt\n",
        "import yfinance as yf\n",
        "import matplotlib.pyplot as plt\n",
        "from scipy.stats import norm"
      ],
      "metadata": {
        "id": "LYyglLsh9ZGE"
      },
      "execution_count": null,
      "outputs": []
    },
    {
      "cell_type": "markdown",
      "source": [
        "# Set time from to a certain number of years"
      ],
      "metadata": {
        "id": "9zRj5HzP-Nf7"
      }
    },
    {
      "cell_type": "code",
      "source": [
        "years = 15\n",
        "\n",
        "endDate = dt.datetime.now()\n",
        "startDate = endDate - dt.timedelta(days = 365*years)"
      ],
      "metadata": {
        "id": "LiJdkESi-Uc3"
      },
      "execution_count": null,
      "outputs": []
    },
    {
      "cell_type": "markdown",
      "source": [
        "# Create a list of tickers"
      ],
      "metadata": {
        "id": "yvgXhsl--U_M"
      }
    },
    {
      "cell_type": "code",
      "source": [
        "tickers = ['SPY', 'BND', 'GLD', 'QQQ', 'VTI']"
      ],
      "metadata": {
        "id": "q17k32dW-ZLZ"
      },
      "execution_count": null,
      "outputs": []
    },
    {
      "cell_type": "markdown",
      "source": [
        "# Download the daily adjusted close prices for the tickers"
      ],
      "metadata": {
        "id": "S5m7exDE-9ou"
      }
    },
    {
      "cell_type": "code",
      "source": [
        "adj_close_df = pd.DataFrame()\n",
        "\n",
        "for ticker in tickers:\n",
        "    data = yf.download(tickers, start = startDate, end = endDate, auto_adjust = False)\n",
        "    adj_close_df = data['Adj Close']\n",
        "\n",
        "print(adj_close_df)"
      ],
      "metadata": {
        "colab": {
          "base_uri": "https://localhost:8080/"
        },
        "id": "Cuxk308t_JaS",
        "outputId": "82d6aa8d-b861-444e-e641-3a3a09c5d7da"
      },
      "execution_count": null,
      "outputs": [
        {
          "output_type": "stream",
          "name": "stderr",
          "text": [
            "[*********************100%***********************]  5 of 5 completed\n",
            "[*********************100%***********************]  5 of 5 completed\n",
            "[*********************100%***********************]  5 of 5 completed\n",
            "[*********************100%***********************]  5 of 5 completed\n",
            "[*********************100%***********************]  5 of 5 completed\n"
          ]
        },
        {
          "output_type": "stream",
          "name": "stdout",
          "text": [
            "Ticker            BND         GLD         QQQ         SPY         VTI\n",
            "Date                                                                 \n",
            "2010-06-11  52.296722  120.010002   39.725780   83.347916   42.759190\n",
            "2010-06-14  52.309761  119.599998   39.717049   83.218758   42.766834\n",
            "2010-06-15  52.218605  120.989998   40.782230   85.110954   43.729095\n",
            "2010-06-16  52.342255  120.330002   40.948105   85.080566   43.683270\n",
            "2010-06-17  52.485439  121.900002   41.079086   85.217339   43.759636\n",
            "...               ...         ...         ...         ...         ...\n",
            "2025-06-02  72.370003  311.670013  523.210022  592.710022  291.359985\n",
            "2025-06-03  72.290001  308.910004  527.299988  596.090027  293.369995\n",
            "2025-06-04  72.739998  310.899994  528.770020  595.929993  293.339996\n",
            "2025-06-05  72.599998  309.329987  524.789978  593.049988  291.720001\n",
            "2025-06-06  72.209999  305.179993  529.919983  599.140015  295.119995\n",
            "\n",
            "[3771 rows x 5 columns]\n"
          ]
        }
      ]
    },
    {
      "cell_type": "markdown",
      "source": [
        "# Calculate the daily log returns and drop any NAs"
      ],
      "metadata": {
        "id": "jQ8HiACD_c7S"
      }
    },
    {
      "cell_type": "code",
      "source": [
        "log_returns = np.log(adj_close_df / adj_close_df.shift(1))\n",
        "log_returns = log_returns.dropna()\n",
        "\n",
        "print(log_returns)"
      ],
      "metadata": {
        "colab": {
          "base_uri": "https://localhost:8080/"
        },
        "id": "ots5DWmb_eWU",
        "outputId": "0177309c-c78d-4a65-c199-6c1560f7c4df"
      },
      "execution_count": null,
      "outputs": [
        {
          "output_type": "stream",
          "name": "stdout",
          "text": [
            "Ticker           BND       GLD       QQQ       SPY       VTI\n",
            "Date                                                        \n",
            "2010-06-14  0.000249 -0.003422 -0.000220 -0.001551  0.000179\n",
            "2010-06-15 -0.001744  0.011555  0.026466  0.022483  0.022251\n",
            "2010-06-16  0.002365 -0.005470  0.004059 -0.000357 -0.001049\n",
            "2010-06-17  0.002732  0.012963  0.003194  0.001606  0.001747\n",
            "2010-06-18 -0.000372  0.007600  0.000830  0.001084  0.000697\n",
            "...              ...       ...       ...       ...       ...\n",
            "2025-06-02 -0.002208  0.026234  0.007867  0.005617  0.005093\n",
            "2025-06-03 -0.001106 -0.008895  0.007787  0.005686  0.006875\n",
            "2025-06-04  0.006206  0.006421  0.002784 -0.000269 -0.000102\n",
            "2025-06-05 -0.001927 -0.005063 -0.007555 -0.004845 -0.005538\n",
            "2025-06-06 -0.005386 -0.013507  0.009728  0.010217  0.011588\n",
            "\n",
            "[3770 rows x 5 columns]\n"
          ]
        }
      ]
    },
    {
      "cell_type": "markdown",
      "source": [
        "# Create an equally weighted portfolio"
      ],
      "metadata": {
        "id": "pu85UO4A-Znq"
      }
    },
    {
      "cell_type": "code",
      "source": [
        "portfolio_value = 1000000\n",
        "weights = np.array([1/len(tickers)]*len(tickers))\n",
        "print(weights)"
      ],
      "metadata": {
        "colab": {
          "base_uri": "https://localhost:8080/"
        },
        "id": "HB-aJ0fMAocm",
        "outputId": "22a5359f-250f-414a-d3b4-824d7dd83bbc"
      },
      "execution_count": null,
      "outputs": [
        {
          "output_type": "stream",
          "name": "stdout",
          "text": [
            "[0.2 0.2 0.2 0.2 0.2]\n"
          ]
        }
      ]
    },
    {
      "cell_type": "markdown",
      "source": [
        "# Calculate the historical portfolio returns"
      ],
      "metadata": {
        "id": "KGrDgbzWAo8w"
      }
    },
    {
      "cell_type": "code",
      "source": [
        "historical_returns = (log_returns * weights).sum(axis=1)\n",
        "print(historical_returns)\n"
      ],
      "metadata": {
        "colab": {
          "base_uri": "https://localhost:8080/"
        },
        "id": "8Y38D4mEAxkD",
        "outputId": "8905e38f-f843-4d83-e835-fa5d6074a199"
      },
      "execution_count": null,
      "outputs": [
        {
          "output_type": "stream",
          "name": "stdout",
          "text": [
            "Date\n",
            "2010-06-14   -0.000953\n",
            "2010-06-15    0.016202\n",
            "2010-06-16   -0.000090\n",
            "2010-06-17    0.004448\n",
            "2010-06-18    0.001968\n",
            "                ...   \n",
            "2025-06-02    0.008520\n",
            "2025-06-03    0.002069\n",
            "2025-06-04    0.003008\n",
            "2025-06-05   -0.004985\n",
            "2025-06-06    0.002528\n",
            "Length: 3770, dtype: float64\n"
          ]
        }
      ]
    },
    {
      "cell_type": "markdown",
      "source": [
        "# Find the X-day historical returns"
      ],
      "metadata": {
        "id": "hiLSJ2fLAx3D"
      }
    },
    {
      "cell_type": "code",
      "source": [
        "days = 5\n",
        "\n",
        "range_returns = historical_returns.rolling(window = days).sum()\n",
        "range_returns = range_returns.dropna()\n",
        "print(range_returns)"
      ],
      "metadata": {
        "colab": {
          "base_uri": "https://localhost:8080/"
        },
        "id": "hIOk2QFSA3k5",
        "outputId": "fad423a3-9693-45c7-d8d6-d8946acb7785"
      },
      "execution_count": null,
      "outputs": [
        {
          "output_type": "stream",
          "name": "stdout",
          "text": [
            "Date\n",
            "2010-06-18    0.021575\n",
            "2010-06-21    0.015513\n",
            "2010-06-22   -0.006808\n",
            "2010-06-23   -0.009279\n",
            "2010-06-24   -0.023018\n",
            "                ...   \n",
            "2025-06-02    0.016836\n",
            "2025-06-03    0.008548\n",
            "2025-06-04    0.015680\n",
            "2025-06-05    0.006973\n",
            "2025-06-06    0.011140\n",
            "Length: 3766, dtype: float64\n"
          ]
        }
      ]
    },
    {
      "cell_type": "markdown",
      "source": [
        "# Specify a confidence interval and calculate the Value at Risk (VaR) using historical method"
      ],
      "metadata": {
        "id": "5ZlW4Pg-A5Mz"
      }
    },
    {
      "cell_type": "code",
      "source": [
        "confidence_interval = 0.95\n",
        "\n",
        "VaR = -np.percentile(range_returns, 100 - (confidence_interval * 100))*portfolio_value\n",
        "print(VaR)"
      ],
      "metadata": {
        "colab": {
          "base_uri": "https://localhost:8080/"
        },
        "id": "6SKorXIeB3Jl",
        "outputId": "3a726723-9261-4ffc-cca4-64ee02dc1d36"
      },
      "execution_count": null,
      "outputs": [
        {
          "output_type": "stream",
          "name": "stdout",
          "text": [
            "23966.618542096166\n"
          ]
        }
      ]
    },
    {
      "cell_type": "markdown",
      "source": [
        "# Plot the results of the historical returns"
      ],
      "metadata": {
        "id": "7pqM9N1rB5Om"
      }
    },
    {
      "cell_type": "code",
      "source": [
        "return_window = days\n",
        "range_returns = historical_returns.rolling(window=return_window).sum()\n",
        "range_returns = range_returns.dropna()\n",
        "\n",
        "range_returns_dollar = range_returns * portfolio_value\n",
        "\n",
        "plt.hist(range_returns_dollar.dropna(), bins=50, density=True)\n",
        "plt.xlabel(f'{return_window}-Day Portfolio Return (Dollar Value)')\n",
        "plt.ylabel('Frequency')\n",
        "plt.title(f'Distribution of Portfolio {return_window}-Day Returns (Dollar Value)')\n",
        "plt.axvline(-VaR, color='r', linestyle='dashed', linewidth=2, label=f'VaR at {confidence_interval:.0%} confidence level')\n",
        "plt.legend()\n",
        "plt.show()\n"
      ],
      "metadata": {
        "colab": {
          "base_uri": "https://localhost:8080/",
          "height": 487
        },
        "id": "5J0bpDsIDjXG",
        "outputId": "c0354307-0cc8-4be9-e21c-4b21c499c24c"
      },
      "execution_count": null,
      "outputs": [
        {
          "output_type": "display_data",
          "data": {
            "text/plain": [
              "<Figure size 640x480 with 1 Axes>"
            ],
            "image/png": "[encoded data removed]"
          },
          "metadata": {}
        }
      ]
    }
  ]
}